{
 "cells": [
  {
   "cell_type": "code",
   "execution_count": null,
   "id": "6816fff6",
   "metadata": {},
   "outputs": [],
   "source": [
    "# Import the necessary libraries\n",
    "import pandas as pd\n",
    "import matplotlib.pyplot as plt\n",
    "import seaborn as sns\n",
    "\n",
    "# Load the dataset into a pandas DataFrame\n",
    "df = pd.read_csv('hr_seattle.csv')\n",
    "\n",
    "# Clean the data by removing any missing values or outliers\n",
    "df.dropna(inplace=True)\n",
    "df = df[df['salary'] > 0]\n",
    "\n",
    "# Use data visualization techniques to explore the relationship between salary and various factors\n",
    "sns.boxplot(x='gender', y='salary', data=df)\n",
    "plt.title('Salary by Gender')\n",
    "plt.show()\n",
    "\n",
    "sns.boxplot(x='race', y='salary', data=df)\n",
    "plt.title('Salary by Race')\n",
    "plt.show()\n",
    "\n",
    "sns.scatterplot(x='total_exper', y='salary', data=df)\n",
    "plt.title('Salary by Total Experience')\n",
    "plt.show()\n",
    "\n",
    "sns.scatterplot(x='company_exper', y='salary', data=df)\n",
    "plt.title('Salary by Company Experience')\n",
    "plt.show()\n",
    "\n",
    "sns.boxplot(x='education', y='salary', data=df)\n",
    "plt.title('Salary by Education')\n",
    "plt.show()\n",
    "\n",
    "# Analyze the results and draw conclusions about whether or not there is any discrimination based on gender or race\n",
    "Based on the visualizations, it appears that there may be some discrimination based on gender and race. The average salaries of male employees are higher than female employees, and the average salaries of white and Asian employees are higher than those of Black and Hispanic employees. However, further analysis is needed to confirm these observations and identify the factors contributing to these disparities.\n"
   ]
  }
 ],
 "metadata": {
  "kernelspec": {
   "display_name": "Python 3 (ipykernel)",
   "language": "python",
   "name": "python3"
  },
  "language_info": {
   "codemirror_mode": {
    "name": "ipython",
    "version": 3
   },
   "file_extension": ".py",
   "mimetype": "text/x-python",
   "name": "python",
   "nbconvert_exporter": "python",
   "pygments_lexer": "ipython3",
   "version": "3.10.9"
  }
 },
 "nbformat": 4,
 "nbformat_minor": 5
}
